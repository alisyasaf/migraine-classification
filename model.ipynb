{
  "cells": [
    {
      "cell_type": "markdown",
      "source": [
        "**Import Library**\n",
        "\n"
      ],
      "metadata": {
        "id": "Q-LwAMaPqt75"
      }
    },
    {
      "cell_type": "code",
      "execution_count": null,
      "metadata": {
        "id": "jZJW1R3VgpoX"
      },
      "outputs": [],
      "source": [
        "import pandas as pd\n",
        "import numpy as np\n",
        "import seaborn as sns\n",
        "from sklearn.preprocessing import LabelEncoder\n",
        "from sklearn.preprocessing import StandardScaler\n",
        "from sklearn.model_selection import train_test_split\n",
        "from matplotlib import pyplot as plt\n",
        "from keras.utils import to_categorical"
      ]
    },
    {
      "cell_type": "markdown",
      "source": [
        "**Load dataset**"
      ],
      "metadata": {
        "id": "Vj8xI_Cqqzwx"
      }
    },
    {
      "cell_type": "code",
      "source": [
        "# mendefinisikan dataset\n",
        "df = pd.read_csv('/content/migraine.csv')\n",
        "df"
      ],
      "metadata": {
        "colab": {
          "base_uri": "https://localhost:8080/",
          "height": 921
        },
        "id": "EGUQ--0eeKp0",
        "outputId": "e3223ed1-0bb9-4847-d9f9-503c84ca0037"
      },
      "execution_count": null,
      "outputs": [
        {
          "output_type": "execute_result",
          "data": {
            "text/plain": [
              "     Age  Duration  Frequency  Location  Character  Intensity  Nausea  Vomit  \\\n",
              "0     30         1          5         1          1          2       1      0   \n",
              "1     50         3          5         1          1          3       1      1   \n",
              "2     53         2          1         1          1          2       1      1   \n",
              "3     45         3          5         1          1          3       1      0   \n",
              "4     53         1          1         1          1          2       1      0   \n",
              "..   ...       ...        ...       ...        ...        ...     ...    ...   \n",
              "395   39         1          1         1          1          3       1      1   \n",
              "396   20         3          2         1          1          3       1      0   \n",
              "397   28         3          2         1          1          3       1      0   \n",
              "398   20         3          1         1          1          3       1      0   \n",
              "399   37         1          1         1          1          3       1      1   \n",
              "\n",
              "     Phonophobia  Photophobia  ...  Vertigo  Tinnitus  Hypoacusis  Diplopia  \\\n",
              "0              1            1  ...        0         0           0         0   \n",
              "1              1            1  ...        1         0           0         0   \n",
              "2              1            1  ...        0         0           0         0   \n",
              "3              1            1  ...        1         0           0         0   \n",
              "4              1            1  ...        0         0           0         0   \n",
              "..           ...          ...  ...      ...       ...         ...       ...   \n",
              "395            1            1  ...        1         0           0         1   \n",
              "396            1            1  ...        0         1           1         0   \n",
              "397            1            1  ...        1         0           0         0   \n",
              "398            1            1  ...        1         0           0         0   \n",
              "399            1            1  ...        1         0           0         0   \n",
              "\n",
              "     Defect  Ataxia  Conscience  Paresthesia  DPF                        Type  \n",
              "0         0       0           0            0    0  Typical aura with migraine  \n",
              "1         0       0           0            0    0  Typical aura with migraine  \n",
              "2         0       0           0            0    0  Typical aura with migraine  \n",
              "3         0       0           0            0    0  Typical aura with migraine  \n",
              "4         0       0           0            0    1  Typical aura with migraine  \n",
              "..      ...     ...         ...          ...  ...                         ...  \n",
              "395       0       0           0            0    1           Basilar-type aura  \n",
              "396       0       0           0            0    1           Basilar-type aura  \n",
              "397       1       0           0            0    1           Basilar-type aura  \n",
              "398       0       0           0            1    1           Basilar-type aura  \n",
              "399       0       0           1            0    1           Basilar-type aura  \n",
              "\n",
              "[400 rows x 24 columns]"
            ],
            "text/html": [
              "\n",
              "  <div id=\"df-0c4d7376-728d-44d4-a94a-198a0c9984b8\">\n",
              "    <div class=\"colab-df-container\">\n",
              "      <div>\n",
              "<style scoped>\n",
              "    .dataframe tbody tr th:only-of-type {\n",
              "        vertical-align: middle;\n",
              "    }\n",
              "\n",
              "    .dataframe tbody tr th {\n",
              "        vertical-align: top;\n",
              "    }\n",
              "\n",
              "    .dataframe thead th {\n",
              "        text-align: right;\n",
              "    }\n",
              "</style>\n",
              "<table border=\"1\" class=\"dataframe\">\n",
              "  <thead>\n",
              "    <tr style=\"text-align: right;\">\n",
              "      <th></th>\n",
              "      <th>Age</th>\n",
              "      <th>Duration</th>\n",
              "      <th>Frequency</th>\n",
              "      <th>Location</th>\n",
              "      <th>Character</th>\n",
              "      <th>Intensity</th>\n",
              "      <th>Nausea</th>\n",
              "      <th>Vomit</th>\n",
              "      <th>Phonophobia</th>\n",
              "      <th>Photophobia</th>\n",
              "      <th>...</th>\n",
              "      <th>Vertigo</th>\n",
              "      <th>Tinnitus</th>\n",
              "      <th>Hypoacusis</th>\n",
              "      <th>Diplopia</th>\n",
              "      <th>Defect</th>\n",
              "      <th>Ataxia</th>\n",
              "      <th>Conscience</th>\n",
              "      <th>Paresthesia</th>\n",
              "      <th>DPF</th>\n",
              "      <th>Type</th>\n",
              "    </tr>\n",
              "  </thead>\n",
              "  <tbody>\n",
              "    <tr>\n",
              "      <th>0</th>\n",
              "      <td>30</td>\n",
              "      <td>1</td>\n",
              "      <td>5</td>\n",
              "      <td>1</td>\n",
              "      <td>1</td>\n",
              "      <td>2</td>\n",
              "      <td>1</td>\n",
              "      <td>0</td>\n",
              "      <td>1</td>\n",
              "      <td>1</td>\n",
              "      <td>...</td>\n",
              "      <td>0</td>\n",
              "      <td>0</td>\n",
              "      <td>0</td>\n",
              "      <td>0</td>\n",
              "      <td>0</td>\n",
              "      <td>0</td>\n",
              "      <td>0</td>\n",
              "      <td>0</td>\n",
              "      <td>0</td>\n",
              "      <td>Typical aura with migraine</td>\n",
              "    </tr>\n",
              "    <tr>\n",
              "      <th>1</th>\n",
              "      <td>50</td>\n",
              "      <td>3</td>\n",
              "      <td>5</td>\n",
              "      <td>1</td>\n",
              "      <td>1</td>\n",
              "      <td>3</td>\n",
              "      <td>1</td>\n",
              "      <td>1</td>\n",
              "      <td>1</td>\n",
              "      <td>1</td>\n",
              "      <td>...</td>\n",
              "      <td>1</td>\n",
              "      <td>0</td>\n",
              "      <td>0</td>\n",
              "      <td>0</td>\n",
              "      <td>0</td>\n",
              "      <td>0</td>\n",
              "      <td>0</td>\n",
              "      <td>0</td>\n",
              "      <td>0</td>\n",
              "      <td>Typical aura with migraine</td>\n",
              "    </tr>\n",
              "    <tr>\n",
              "      <th>2</th>\n",
              "      <td>53</td>\n",
              "      <td>2</td>\n",
              "      <td>1</td>\n",
              "      <td>1</td>\n",
              "      <td>1</td>\n",
              "      <td>2</td>\n",
              "      <td>1</td>\n",
              "      <td>1</td>\n",
              "      <td>1</td>\n",
              "      <td>1</td>\n",
              "      <td>...</td>\n",
              "      <td>0</td>\n",
              "      <td>0</td>\n",
              "      <td>0</td>\n",
              "      <td>0</td>\n",
              "      <td>0</td>\n",
              "      <td>0</td>\n",
              "      <td>0</td>\n",
              "      <td>0</td>\n",
              "      <td>0</td>\n",
              "      <td>Typical aura with migraine</td>\n",
              "    </tr>\n",
              "    <tr>\n",
              "      <th>3</th>\n",
              "      <td>45</td>\n",
              "      <td>3</td>\n",
              "      <td>5</td>\n",
              "      <td>1</td>\n",
              "      <td>1</td>\n",
              "      <td>3</td>\n",
              "      <td>1</td>\n",
              "      <td>0</td>\n",
              "      <td>1</td>\n",
              "      <td>1</td>\n",
              "      <td>...</td>\n",
              "      <td>1</td>\n",
              "      <td>0</td>\n",
              "      <td>0</td>\n",
              "      <td>0</td>\n",
              "      <td>0</td>\n",
              "      <td>0</td>\n",
              "      <td>0</td>\n",
              "      <td>0</td>\n",
              "      <td>0</td>\n",
              "      <td>Typical aura with migraine</td>\n",
              "    </tr>\n",
              "    <tr>\n",
              "      <th>4</th>\n",
              "      <td>53</td>\n",
              "      <td>1</td>\n",
              "      <td>1</td>\n",
              "      <td>1</td>\n",
              "      <td>1</td>\n",
              "      <td>2</td>\n",
              "      <td>1</td>\n",
              "      <td>0</td>\n",
              "      <td>1</td>\n",
              "      <td>1</td>\n",
              "      <td>...</td>\n",
              "      <td>0</td>\n",
              "      <td>0</td>\n",
              "      <td>0</td>\n",
              "      <td>0</td>\n",
              "      <td>0</td>\n",
              "      <td>0</td>\n",
              "      <td>0</td>\n",
              "      <td>0</td>\n",
              "      <td>1</td>\n",
              "      <td>Typical aura with migraine</td>\n",
              "    </tr>\n",
              "    <tr>\n",
              "      <th>...</th>\n",
              "      <td>...</td>\n",
              "      <td>...</td>\n",
              "      <td>...</td>\n",
              "      <td>...</td>\n",
              "      <td>...</td>\n",
              "      <td>...</td>\n",
              "      <td>...</td>\n",
              "      <td>...</td>\n",
              "      <td>...</td>\n",
              "      <td>...</td>\n",
              "      <td>...</td>\n",
              "      <td>...</td>\n",
              "      <td>...</td>\n",
              "      <td>...</td>\n",
              "      <td>...</td>\n",
              "      <td>...</td>\n",
              "      <td>...</td>\n",
              "      <td>...</td>\n",
              "      <td>...</td>\n",
              "      <td>...</td>\n",
              "      <td>...</td>\n",
              "    </tr>\n",
              "    <tr>\n",
              "      <th>395</th>\n",
              "      <td>39</td>\n",
              "      <td>1</td>\n",
              "      <td>1</td>\n",
              "      <td>1</td>\n",
              "      <td>1</td>\n",
              "      <td>3</td>\n",
              "      <td>1</td>\n",
              "      <td>1</td>\n",
              "      <td>1</td>\n",
              "      <td>1</td>\n",
              "      <td>...</td>\n",
              "      <td>1</td>\n",
              "      <td>0</td>\n",
              "      <td>0</td>\n",
              "      <td>1</td>\n",
              "      <td>0</td>\n",
              "      <td>0</td>\n",
              "      <td>0</td>\n",
              "      <td>0</td>\n",
              "      <td>1</td>\n",
              "      <td>Basilar-type aura</td>\n",
              "    </tr>\n",
              "    <tr>\n",
              "      <th>396</th>\n",
              "      <td>20</td>\n",
              "      <td>3</td>\n",
              "      <td>2</td>\n",
              "      <td>1</td>\n",
              "      <td>1</td>\n",
              "      <td>3</td>\n",
              "      <td>1</td>\n",
              "      <td>0</td>\n",
              "      <td>1</td>\n",
              "      <td>1</td>\n",
              "      <td>...</td>\n",
              "      <td>0</td>\n",
              "      <td>1</td>\n",
              "      <td>1</td>\n",
              "      <td>0</td>\n",
              "      <td>0</td>\n",
              "      <td>0</td>\n",
              "      <td>0</td>\n",
              "      <td>0</td>\n",
              "      <td>1</td>\n",
              "      <td>Basilar-type aura</td>\n",
              "    </tr>\n",
              "    <tr>\n",
              "      <th>397</th>\n",
              "      <td>28</td>\n",
              "      <td>3</td>\n",
              "      <td>2</td>\n",
              "      <td>1</td>\n",
              "      <td>1</td>\n",
              "      <td>3</td>\n",
              "      <td>1</td>\n",
              "      <td>0</td>\n",
              "      <td>1</td>\n",
              "      <td>1</td>\n",
              "      <td>...</td>\n",
              "      <td>1</td>\n",
              "      <td>0</td>\n",
              "      <td>0</td>\n",
              "      <td>0</td>\n",
              "      <td>1</td>\n",
              "      <td>0</td>\n",
              "      <td>0</td>\n",
              "      <td>0</td>\n",
              "      <td>1</td>\n",
              "      <td>Basilar-type aura</td>\n",
              "    </tr>\n",
              "    <tr>\n",
              "      <th>398</th>\n",
              "      <td>20</td>\n",
              "      <td>3</td>\n",
              "      <td>1</td>\n",
              "      <td>1</td>\n",
              "      <td>1</td>\n",
              "      <td>3</td>\n",
              "      <td>1</td>\n",
              "      <td>0</td>\n",
              "      <td>1</td>\n",
              "      <td>1</td>\n",
              "      <td>...</td>\n",
              "      <td>1</td>\n",
              "      <td>0</td>\n",
              "      <td>0</td>\n",
              "      <td>0</td>\n",
              "      <td>0</td>\n",
              "      <td>0</td>\n",
              "      <td>0</td>\n",
              "      <td>1</td>\n",
              "      <td>1</td>\n",
              "      <td>Basilar-type aura</td>\n",
              "    </tr>\n",
              "    <tr>\n",
              "      <th>399</th>\n",
              "      <td>37</td>\n",
              "      <td>1</td>\n",
              "      <td>1</td>\n",
              "      <td>1</td>\n",
              "      <td>1</td>\n",
              "      <td>3</td>\n",
              "      <td>1</td>\n",
              "      <td>1</td>\n",
              "      <td>1</td>\n",
              "      <td>1</td>\n",
              "      <td>...</td>\n",
              "      <td>1</td>\n",
              "      <td>0</td>\n",
              "      <td>0</td>\n",
              "      <td>0</td>\n",
              "      <td>0</td>\n",
              "      <td>0</td>\n",
              "      <td>1</td>\n",
              "      <td>0</td>\n",
              "      <td>1</td>\n",
              "      <td>Basilar-type aura</td>\n",
              "    </tr>\n",
              "  </tbody>\n",
              "</table>\n",
              "<p>400 rows × 24 columns</p>\n",
              "</div>\n",
              "      <button class=\"colab-df-convert\" onclick=\"convertToInteractive('df-0c4d7376-728d-44d4-a94a-198a0c9984b8')\"\n",
              "              title=\"Convert this dataframe to an interactive table.\"\n",
              "              style=\"display:none;\">\n",
              "        \n",
              "  <svg xmlns=\"http://www.w3.org/2000/svg\" height=\"24px\"viewBox=\"0 0 24 24\"\n",
              "       width=\"24px\">\n",
              "    <path d=\"M0 0h24v24H0V0z\" fill=\"none\"/>\n",
              "    <path d=\"M18.56 5.44l.94 2.06.94-2.06 2.06-.94-2.06-.94-.94-2.06-.94 2.06-2.06.94zm-11 1L8.5 8.5l.94-2.06 2.06-.94-2.06-.94L8.5 2.5l-.94 2.06-2.06.94zm10 10l.94 2.06.94-2.06 2.06-.94-2.06-.94-.94-2.06-.94 2.06-2.06.94z\"/><path d=\"M17.41 7.96l-1.37-1.37c-.4-.4-.92-.59-1.43-.59-.52 0-1.04.2-1.43.59L10.3 9.45l-7.72 7.72c-.78.78-.78 2.05 0 2.83L4 21.41c.39.39.9.59 1.41.59.51 0 1.02-.2 1.41-.59l7.78-7.78 2.81-2.81c.8-.78.8-2.07 0-2.86zM5.41 20L4 18.59l7.72-7.72 1.47 1.35L5.41 20z\"/>\n",
              "  </svg>\n",
              "      </button>\n",
              "      \n",
              "  <style>\n",
              "    .colab-df-container {\n",
              "      display:flex;\n",
              "      flex-wrap:wrap;\n",
              "      gap: 12px;\n",
              "    }\n",
              "\n",
              "    .colab-df-convert {\n",
              "      background-color: #E8F0FE;\n",
              "      border: none;\n",
              "      border-radius: 50%;\n",
              "      cursor: pointer;\n",
              "      display: none;\n",
              "      fill: #1967D2;\n",
              "      height: 32px;\n",
              "      padding: 0 0 0 0;\n",
              "      width: 32px;\n",
              "    }\n",
              "\n",
              "    .colab-df-convert:hover {\n",
              "      background-color: #E2EBFA;\n",
              "      box-shadow: 0px 1px 2px rgba(60, 64, 67, 0.3), 0px 1px 3px 1px rgba(60, 64, 67, 0.15);\n",
              "      fill: #174EA6;\n",
              "    }\n",
              "\n",
              "    [theme=dark] .colab-df-convert {\n",
              "      background-color: #3B4455;\n",
              "      fill: #D2E3FC;\n",
              "    }\n",
              "\n",
              "    [theme=dark] .colab-df-convert:hover {\n",
              "      background-color: #434B5C;\n",
              "      box-shadow: 0px 1px 3px 1px rgba(0, 0, 0, 0.15);\n",
              "      filter: drop-shadow(0px 1px 2px rgba(0, 0, 0, 0.3));\n",
              "      fill: #FFFFFF;\n",
              "    }\n",
              "  </style>\n",
              "\n",
              "      <script>\n",
              "        const buttonEl =\n",
              "          document.querySelector('#df-0c4d7376-728d-44d4-a94a-198a0c9984b8 button.colab-df-convert');\n",
              "        buttonEl.style.display =\n",
              "          google.colab.kernel.accessAllowed ? 'block' : 'none';\n",
              "\n",
              "        async function convertToInteractive(key) {\n",
              "          const element = document.querySelector('#df-0c4d7376-728d-44d4-a94a-198a0c9984b8');\n",
              "          const dataTable =\n",
              "            await google.colab.kernel.invokeFunction('convertToInteractive',\n",
              "                                                     [key], {});\n",
              "          if (!dataTable) return;\n",
              "\n",
              "          const docLinkHtml = 'Like what you see? Visit the ' +\n",
              "            '<a target=\"_blank\" href=https://colab.research.google.com/notebooks/data_table.ipynb>data table notebook</a>'\n",
              "            + ' to learn more about interactive tables.';\n",
              "          element.innerHTML = '';\n",
              "          dataTable['output_type'] = 'display_data';\n",
              "          await google.colab.output.renderOutput(dataTable, element);\n",
              "          const docLink = document.createElement('div');\n",
              "          docLink.innerHTML = docLinkHtml;\n",
              "          element.appendChild(docLink);\n",
              "        }\n",
              "      </script>\n",
              "    </div>\n",
              "  </div>\n",
              "  "
            ]
          },
          "metadata": {},
          "execution_count": 2
        }
      ]
    },
    {
      "cell_type": "markdown",
      "source": [
        "**Informasi dataset**"
      ],
      "metadata": {
        "id": "K5Ip0uGyrMx3"
      }
    },
    {
      "cell_type": "code",
      "source": [
        "# melihat anggota masing-masing class\n",
        "df.groupby('Type').size()"
      ],
      "metadata": {
        "colab": {
          "base_uri": "https://localhost:8080/"
        },
        "id": "txJWuPigf5Vv",
        "outputId": "06338939-fb09-40ee-a32b-919ee9e8a0a5"
      },
      "execution_count": null,
      "outputs": [
        {
          "output_type": "execute_result",
          "data": {
            "text/plain": [
              "Type\n",
              "Basilar-type aura                 18\n",
              "Familial hemiplegic migraine      24\n",
              "Migraine without aura             60\n",
              "Other                             17\n",
              "Sporadic hemiplegic migraine      14\n",
              "Typical aura with migraine       247\n",
              "Typical aura without migraine     20\n",
              "dtype: int64"
            ]
          },
          "metadata": {},
          "execution_count": 3
        }
      ]
    },
    {
      "cell_type": "code",
      "source": [
        "# melihat info statistikal data\n",
        "df.describe()"
      ],
      "metadata": {
        "colab": {
          "base_uri": "https://localhost:8080/",
          "height": 394
        },
        "id": "pFqFgl_YgLmz",
        "outputId": "0d4d685b-eedb-425c-9f98-bfd729b75874"
      },
      "execution_count": null,
      "outputs": [
        {
          "output_type": "execute_result",
          "data": {
            "text/plain": [
              "              Age    Duration   Frequency    Location   Character  Intensity  \\\n",
              "count  400.000000  400.000000  400.000000  400.000000  400.000000  400.00000   \n",
              "mean    31.705000    1.610000    2.365000    0.972500    0.977500    2.47000   \n",
              "std     12.139043    0.770964    1.675947    0.268186    0.277825    0.76849   \n",
              "min     15.000000    1.000000    1.000000    0.000000    0.000000    0.00000   \n",
              "25%     22.000000    1.000000    1.000000    1.000000    1.000000    2.00000   \n",
              "50%     28.000000    1.000000    2.000000    1.000000    1.000000    3.00000   \n",
              "75%     40.000000    2.000000    4.000000    1.000000    1.000000    3.00000   \n",
              "max     77.000000    3.000000    8.000000    2.000000    2.000000    3.00000   \n",
              "\n",
              "           Nausea       Vomit  Phonophobia  Photophobia  ...  Dysarthria  \\\n",
              "count  400.000000  400.000000   400.000000   400.000000  ...    400.0000   \n",
              "mean     0.987500    0.322500     0.977500     0.980000  ...      0.0025   \n",
              "std      0.111242    0.468019     0.148489     0.140175  ...      0.0500   \n",
              "min      0.000000    0.000000     0.000000     0.000000  ...      0.0000   \n",
              "25%      1.000000    0.000000     1.000000     1.000000  ...      0.0000   \n",
              "50%      1.000000    0.000000     1.000000     1.000000  ...      0.0000   \n",
              "75%      1.000000    1.000000     1.000000     1.000000  ...      0.0000   \n",
              "max      1.000000    1.000000     1.000000     1.000000  ...      1.0000   \n",
              "\n",
              "          Vertigo    Tinnitus  Hypoacusis    Diplopia      Defect  Ataxia  \\\n",
              "count  400.000000  400.000000  400.000000  400.000000  400.000000   400.0   \n",
              "mean     0.125000    0.060000    0.015000    0.005000    0.015000     0.0   \n",
              "std      0.331133    0.237784    0.121705    0.070622    0.121705     0.0   \n",
              "min      0.000000    0.000000    0.000000    0.000000    0.000000     0.0   \n",
              "25%      0.000000    0.000000    0.000000    0.000000    0.000000     0.0   \n",
              "50%      0.000000    0.000000    0.000000    0.000000    0.000000     0.0   \n",
              "75%      0.000000    0.000000    0.000000    0.000000    0.000000     0.0   \n",
              "max      1.000000    1.000000    1.000000    1.000000    1.000000     0.0   \n",
              "\n",
              "       Conscience  Paresthesia         DPF  \n",
              "count  400.000000   400.000000  400.000000  \n",
              "mean     0.017500     0.007500    0.410000  \n",
              "std      0.131289     0.086385    0.492449  \n",
              "min      0.000000     0.000000    0.000000  \n",
              "25%      0.000000     0.000000    0.000000  \n",
              "50%      0.000000     0.000000    0.000000  \n",
              "75%      0.000000     0.000000    1.000000  \n",
              "max      1.000000     1.000000    1.000000  \n",
              "\n",
              "[8 rows x 23 columns]"
            ],
            "text/html": [
              "\n",
              "  <div id=\"df-6a66a262-a5a7-4525-8399-1f28cc154982\">\n",
              "    <div class=\"colab-df-container\">\n",
              "      <div>\n",
              "<style scoped>\n",
              "    .dataframe tbody tr th:only-of-type {\n",
              "        vertical-align: middle;\n",
              "    }\n",
              "\n",
              "    .dataframe tbody tr th {\n",
              "        vertical-align: top;\n",
              "    }\n",
              "\n",
              "    .dataframe thead th {\n",
              "        text-align: right;\n",
              "    }\n",
              "</style>\n",
              "<table border=\"1\" class=\"dataframe\">\n",
              "  <thead>\n",
              "    <tr style=\"text-align: right;\">\n",
              "      <th></th>\n",
              "      <th>Age</th>\n",
              "      <th>Duration</th>\n",
              "      <th>Frequency</th>\n",
              "      <th>Location</th>\n",
              "      <th>Character</th>\n",
              "      <th>Intensity</th>\n",
              "      <th>Nausea</th>\n",
              "      <th>Vomit</th>\n",
              "      <th>Phonophobia</th>\n",
              "      <th>Photophobia</th>\n",
              "      <th>...</th>\n",
              "      <th>Dysarthria</th>\n",
              "      <th>Vertigo</th>\n",
              "      <th>Tinnitus</th>\n",
              "      <th>Hypoacusis</th>\n",
              "      <th>Diplopia</th>\n",
              "      <th>Defect</th>\n",
              "      <th>Ataxia</th>\n",
              "      <th>Conscience</th>\n",
              "      <th>Paresthesia</th>\n",
              "      <th>DPF</th>\n",
              "    </tr>\n",
              "  </thead>\n",
              "  <tbody>\n",
              "    <tr>\n",
              "      <th>count</th>\n",
              "      <td>400.000000</td>\n",
              "      <td>400.000000</td>\n",
              "      <td>400.000000</td>\n",
              "      <td>400.000000</td>\n",
              "      <td>400.000000</td>\n",
              "      <td>400.00000</td>\n",
              "      <td>400.000000</td>\n",
              "      <td>400.000000</td>\n",
              "      <td>400.000000</td>\n",
              "      <td>400.000000</td>\n",
              "      <td>...</td>\n",
              "      <td>400.0000</td>\n",
              "      <td>400.000000</td>\n",
              "      <td>400.000000</td>\n",
              "      <td>400.000000</td>\n",
              "      <td>400.000000</td>\n",
              "      <td>400.000000</td>\n",
              "      <td>400.0</td>\n",
              "      <td>400.000000</td>\n",
              "      <td>400.000000</td>\n",
              "      <td>400.000000</td>\n",
              "    </tr>\n",
              "    <tr>\n",
              "      <th>mean</th>\n",
              "      <td>31.705000</td>\n",
              "      <td>1.610000</td>\n",
              "      <td>2.365000</td>\n",
              "      <td>0.972500</td>\n",
              "      <td>0.977500</td>\n",
              "      <td>2.47000</td>\n",
              "      <td>0.987500</td>\n",
              "      <td>0.322500</td>\n",
              "      <td>0.977500</td>\n",
              "      <td>0.980000</td>\n",
              "      <td>...</td>\n",
              "      <td>0.0025</td>\n",
              "      <td>0.125000</td>\n",
              "      <td>0.060000</td>\n",
              "      <td>0.015000</td>\n",
              "      <td>0.005000</td>\n",
              "      <td>0.015000</td>\n",
              "      <td>0.0</td>\n",
              "      <td>0.017500</td>\n",
              "      <td>0.007500</td>\n",
              "      <td>0.410000</td>\n",
              "    </tr>\n",
              "    <tr>\n",
              "      <th>std</th>\n",
              "      <td>12.139043</td>\n",
              "      <td>0.770964</td>\n",
              "      <td>1.675947</td>\n",
              "      <td>0.268186</td>\n",
              "      <td>0.277825</td>\n",
              "      <td>0.76849</td>\n",
              "      <td>0.111242</td>\n",
              "      <td>0.468019</td>\n",
              "      <td>0.148489</td>\n",
              "      <td>0.140175</td>\n",
              "      <td>...</td>\n",
              "      <td>0.0500</td>\n",
              "      <td>0.331133</td>\n",
              "      <td>0.237784</td>\n",
              "      <td>0.121705</td>\n",
              "      <td>0.070622</td>\n",
              "      <td>0.121705</td>\n",
              "      <td>0.0</td>\n",
              "      <td>0.131289</td>\n",
              "      <td>0.086385</td>\n",
              "      <td>0.492449</td>\n",
              "    </tr>\n",
              "    <tr>\n",
              "      <th>min</th>\n",
              "      <td>15.000000</td>\n",
              "      <td>1.000000</td>\n",
              "      <td>1.000000</td>\n",
              "      <td>0.000000</td>\n",
              "      <td>0.000000</td>\n",
              "      <td>0.00000</td>\n",
              "      <td>0.000000</td>\n",
              "      <td>0.000000</td>\n",
              "      <td>0.000000</td>\n",
              "      <td>0.000000</td>\n",
              "      <td>...</td>\n",
              "      <td>0.0000</td>\n",
              "      <td>0.000000</td>\n",
              "      <td>0.000000</td>\n",
              "      <td>0.000000</td>\n",
              "      <td>0.000000</td>\n",
              "      <td>0.000000</td>\n",
              "      <td>0.0</td>\n",
              "      <td>0.000000</td>\n",
              "      <td>0.000000</td>\n",
              "      <td>0.000000</td>\n",
              "    </tr>\n",
              "    <tr>\n",
              "      <th>25%</th>\n",
              "      <td>22.000000</td>\n",
              "      <td>1.000000</td>\n",
              "      <td>1.000000</td>\n",
              "      <td>1.000000</td>\n",
              "      <td>1.000000</td>\n",
              "      <td>2.00000</td>\n",
              "      <td>1.000000</td>\n",
              "      <td>0.000000</td>\n",
              "      <td>1.000000</td>\n",
              "      <td>1.000000</td>\n",
              "      <td>...</td>\n",
              "      <td>0.0000</td>\n",
              "      <td>0.000000</td>\n",
              "      <td>0.000000</td>\n",
              "      <td>0.000000</td>\n",
              "      <td>0.000000</td>\n",
              "      <td>0.000000</td>\n",
              "      <td>0.0</td>\n",
              "      <td>0.000000</td>\n",
              "      <td>0.000000</td>\n",
              "      <td>0.000000</td>\n",
              "    </tr>\n",
              "    <tr>\n",
              "      <th>50%</th>\n",
              "      <td>28.000000</td>\n",
              "      <td>1.000000</td>\n",
              "      <td>2.000000</td>\n",
              "      <td>1.000000</td>\n",
              "      <td>1.000000</td>\n",
              "      <td>3.00000</td>\n",
              "      <td>1.000000</td>\n",
              "      <td>0.000000</td>\n",
              "      <td>1.000000</td>\n",
              "      <td>1.000000</td>\n",
              "      <td>...</td>\n",
              "      <td>0.0000</td>\n",
              "      <td>0.000000</td>\n",
              "      <td>0.000000</td>\n",
              "      <td>0.000000</td>\n",
              "      <td>0.000000</td>\n",
              "      <td>0.000000</td>\n",
              "      <td>0.0</td>\n",
              "      <td>0.000000</td>\n",
              "      <td>0.000000</td>\n",
              "      <td>0.000000</td>\n",
              "    </tr>\n",
              "    <tr>\n",
              "      <th>75%</th>\n",
              "      <td>40.000000</td>\n",
              "      <td>2.000000</td>\n",
              "      <td>4.000000</td>\n",
              "      <td>1.000000</td>\n",
              "      <td>1.000000</td>\n",
              "      <td>3.00000</td>\n",
              "      <td>1.000000</td>\n",
              "      <td>1.000000</td>\n",
              "      <td>1.000000</td>\n",
              "      <td>1.000000</td>\n",
              "      <td>...</td>\n",
              "      <td>0.0000</td>\n",
              "      <td>0.000000</td>\n",
              "      <td>0.000000</td>\n",
              "      <td>0.000000</td>\n",
              "      <td>0.000000</td>\n",
              "      <td>0.000000</td>\n",
              "      <td>0.0</td>\n",
              "      <td>0.000000</td>\n",
              "      <td>0.000000</td>\n",
              "      <td>1.000000</td>\n",
              "    </tr>\n",
              "    <tr>\n",
              "      <th>max</th>\n",
              "      <td>77.000000</td>\n",
              "      <td>3.000000</td>\n",
              "      <td>8.000000</td>\n",
              "      <td>2.000000</td>\n",
              "      <td>2.000000</td>\n",
              "      <td>3.00000</td>\n",
              "      <td>1.000000</td>\n",
              "      <td>1.000000</td>\n",
              "      <td>1.000000</td>\n",
              "      <td>1.000000</td>\n",
              "      <td>...</td>\n",
              "      <td>1.0000</td>\n",
              "      <td>1.000000</td>\n",
              "      <td>1.000000</td>\n",
              "      <td>1.000000</td>\n",
              "      <td>1.000000</td>\n",
              "      <td>1.000000</td>\n",
              "      <td>0.0</td>\n",
              "      <td>1.000000</td>\n",
              "      <td>1.000000</td>\n",
              "      <td>1.000000</td>\n",
              "    </tr>\n",
              "  </tbody>\n",
              "</table>\n",
              "<p>8 rows × 23 columns</p>\n",
              "</div>\n",
              "      <button class=\"colab-df-convert\" onclick=\"convertToInteractive('df-6a66a262-a5a7-4525-8399-1f28cc154982')\"\n",
              "              title=\"Convert this dataframe to an interactive table.\"\n",
              "              style=\"display:none;\">\n",
              "        \n",
              "  <svg xmlns=\"http://www.w3.org/2000/svg\" height=\"24px\"viewBox=\"0 0 24 24\"\n",
              "       width=\"24px\">\n",
              "    <path d=\"M0 0h24v24H0V0z\" fill=\"none\"/>\n",
              "    <path d=\"M18.56 5.44l.94 2.06.94-2.06 2.06-.94-2.06-.94-.94-2.06-.94 2.06-2.06.94zm-11 1L8.5 8.5l.94-2.06 2.06-.94-2.06-.94L8.5 2.5l-.94 2.06-2.06.94zm10 10l.94 2.06.94-2.06 2.06-.94-2.06-.94-.94-2.06-.94 2.06-2.06.94z\"/><path d=\"M17.41 7.96l-1.37-1.37c-.4-.4-.92-.59-1.43-.59-.52 0-1.04.2-1.43.59L10.3 9.45l-7.72 7.72c-.78.78-.78 2.05 0 2.83L4 21.41c.39.39.9.59 1.41.59.51 0 1.02-.2 1.41-.59l7.78-7.78 2.81-2.81c.8-.78.8-2.07 0-2.86zM5.41 20L4 18.59l7.72-7.72 1.47 1.35L5.41 20z\"/>\n",
              "  </svg>\n",
              "      </button>\n",
              "      \n",
              "  <style>\n",
              "    .colab-df-container {\n",
              "      display:flex;\n",
              "      flex-wrap:wrap;\n",
              "      gap: 12px;\n",
              "    }\n",
              "\n",
              "    .colab-df-convert {\n",
              "      background-color: #E8F0FE;\n",
              "      border: none;\n",
              "      border-radius: 50%;\n",
              "      cursor: pointer;\n",
              "      display: none;\n",
              "      fill: #1967D2;\n",
              "      height: 32px;\n",
              "      padding: 0 0 0 0;\n",
              "      width: 32px;\n",
              "    }\n",
              "\n",
              "    .colab-df-convert:hover {\n",
              "      background-color: #E2EBFA;\n",
              "      box-shadow: 0px 1px 2px rgba(60, 64, 67, 0.3), 0px 1px 3px 1px rgba(60, 64, 67, 0.15);\n",
              "      fill: #174EA6;\n",
              "    }\n",
              "\n",
              "    [theme=dark] .colab-df-convert {\n",
              "      background-color: #3B4455;\n",
              "      fill: #D2E3FC;\n",
              "    }\n",
              "\n",
              "    [theme=dark] .colab-df-convert:hover {\n",
              "      background-color: #434B5C;\n",
              "      box-shadow: 0px 1px 3px 1px rgba(0, 0, 0, 0.15);\n",
              "      filter: drop-shadow(0px 1px 2px rgba(0, 0, 0, 0.3));\n",
              "      fill: #FFFFFF;\n",
              "    }\n",
              "  </style>\n",
              "\n",
              "      <script>\n",
              "        const buttonEl =\n",
              "          document.querySelector('#df-6a66a262-a5a7-4525-8399-1f28cc154982 button.colab-df-convert');\n",
              "        buttonEl.style.display =\n",
              "          google.colab.kernel.accessAllowed ? 'block' : 'none';\n",
              "\n",
              "        async function convertToInteractive(key) {\n",
              "          const element = document.querySelector('#df-6a66a262-a5a7-4525-8399-1f28cc154982');\n",
              "          const dataTable =\n",
              "            await google.colab.kernel.invokeFunction('convertToInteractive',\n",
              "                                                     [key], {});\n",
              "          if (!dataTable) return;\n",
              "\n",
              "          const docLinkHtml = 'Like what you see? Visit the ' +\n",
              "            '<a target=\"_blank\" href=https://colab.research.google.com/notebooks/data_table.ipynb>data table notebook</a>'\n",
              "            + ' to learn more about interactive tables.';\n",
              "          element.innerHTML = '';\n",
              "          dataTable['output_type'] = 'display_data';\n",
              "          await google.colab.output.renderOutput(dataTable, element);\n",
              "          const docLink = document.createElement('div');\n",
              "          docLink.innerHTML = docLinkHtml;\n",
              "          element.appendChild(docLink);\n",
              "        }\n",
              "      </script>\n",
              "    </div>\n",
              "  </div>\n",
              "  "
            ]
          },
          "metadata": {},
          "execution_count": 4
        }
      ]
    },
    {
      "cell_type": "code",
      "source": [
        "# mengecek missing values\n",
        "df.isnull().sum().to_numpy()"
      ],
      "metadata": {
        "colab": {
          "base_uri": "https://localhost:8080/"
        },
        "id": "j5tzXK2igP_H",
        "outputId": "5a85a645-2ab9-481c-970d-8f8489f58e73"
      },
      "execution_count": null,
      "outputs": [
        {
          "output_type": "execute_result",
          "data": {
            "text/plain": [
              "array([0, 0, 0, 0, 0, 0, 0, 0, 0, 0, 0, 0, 0, 0, 0, 0, 0, 0, 0, 0, 0, 0,\n",
              "       0, 0])"
            ]
          },
          "metadata": {},
          "execution_count": 5
        }
      ]
    },
    {
      "cell_type": "code",
      "source": [
        "sns.set(rc={'figure.figsize':(15, 10)})\n",
        "sns.countplot(x=df.Type)"
      ],
      "metadata": {
        "colab": {
          "base_uri": "https://localhost:8080/",
          "height": 557
        },
        "id": "K92JsYxiizee",
        "outputId": "f254e98a-9792-4cf0-ae7d-9f323b1ce9c3"
      },
      "execution_count": null,
      "outputs": [
        {
          "output_type": "execute_result",
          "data": {
            "text/plain": [
              "<matplotlib.axes._subplots.AxesSubplot at 0x7f9796465610>"
            ]
          },
          "metadata": {},
          "execution_count": 6
        },
        {
          "output_type": "display_data",
          "data": {
            "text/plain": [
              "<Figure size 1080x720 with 1 Axes>"
            ],
            "image/png": "[encoded data removed]"
          },
          "metadata": {}
        }
      ]
    },
    {
      "cell_type": "markdown",
      "source": [
        "Karena jumlah data masing-masing class imbalance, akan dilakukan resampling supaya jumlah data lebih merata."
      ],
      "metadata": {
        "id": "GGH12RYVrSgk"
      }
    },
    {
      "cell_type": "code",
      "source": [
        "# karena pada target terdapat 7 class maka buat 7 data frame\n",
        "data_1 = df[df['Type'] == 'Typical aura with migraine']\n",
        "data_2 = df[df['Type'] == 'Migraine without aura']\n",
        "data_3 = df[df['Type'] == 'Familial hemiplegic migraine']\n",
        "data_4 = df[df['Type'] == 'Typical aura without migraine']\n",
        "data_5 = df[df['Type'] == 'Basilar-type aura']\n",
        "data_6 = df[df['Type'] == 'Other']\n",
        "data_7 = df[df['Type'] == 'Sporadic hemiplegic migraine']"
      ],
      "metadata": {
        "id": "i9sBlkEej3kp"
      },
      "execution_count": null,
      "outputs": []
    },
    {
      "cell_type": "code",
      "source": [
        "# memakai fungsi sampling dari sklearn\n",
        "from sklearn.utils import resample\n",
        "\n",
        "# 100 sampel untuk tiap class\n",
        "data_1_resample = resample(data_1, n_samples=100, random_state=0, replace=True)\n",
        "data_2_resample = resample(data_2, n_samples=100, random_state=0, replace=True)\n",
        "data_3_resample = resample(data_3, n_samples=100, random_state=0, replace=True)\n",
        "data_4_resample = resample(data_4, n_samples=100, random_state=0, replace=True)\n",
        "data_5_resample = resample(data_5, n_samples=100, random_state=0, replace=True)\n",
        "data_6_resample = resample(data_6, n_samples=100, random_state=0, replace=True)\n",
        "data_7_resample = resample(data_7, n_samples=100, random_state=0, replace=True)"
      ],
      "metadata": {
        "id": "Dh1UPsKhkRv6"
      },
      "execution_count": null,
      "outputs": []
    },
    {
      "cell_type": "code",
      "source": [
        "train_dataset = pd.concat([data_1, data_2_resample, data_3_resample, data_4_resample, data_5_resample, data_6_resample, data_7_resample])"
      ],
      "metadata": {
        "id": "tF7J-YiRm5Hw"
      },
      "execution_count": null,
      "outputs": []
    },
    {
      "cell_type": "markdown",
      "source": [
        "Melihat distribusi data setelah dilakukan resampling."
      ],
      "metadata": {
        "id": "gthnzC6Rrl-C"
      }
    },
    {
      "cell_type": "code",
      "source": [
        "plt.figure(figsize=(10, 8))\n",
        "circle = plt.Circle((0, 0), 0.7, color='white')\n",
        "plt.pie(train_dataset.Type.value_counts(), labels=['Typical Aura With Migraine', 'Migraine Without Aura', 'Familial Hemiplegic Nigraine',\n",
        "                                                'Typical Aura Without Migraine', 'Basilar Typed Aura', \n",
        "                                         'Other', 'Sporadic Hemiplegic Migraine'], colors=['blue', 'magenta', 'cyan', \n",
        "                                                                                   'red', 'grey', 'black', 'yellow'])\n",
        "p = plt.gcf()\n",
        "p.gca().add_artist(circle)"
      ],
      "metadata": {
        "colab": {
          "base_uri": "https://localhost:8080/",
          "height": 483
        },
        "id": "X-wyj6W8nSn5",
        "outputId": "c002211d-1c5f-4788-c668-528fa77328e7"
      },
      "execution_count": null,
      "outputs": [
        {
          "output_type": "execute_result",
          "data": {
            "text/plain": [
              "<matplotlib.patches.Circle at 0x7f972aa9f150>"
            ]
          },
          "metadata": {},
          "execution_count": 10
        },
        {
          "output_type": "display_data",
          "data": {
            "text/plain": [
              "<Figure size 720x576 with 1 Axes>"
            ],
            "image/png": "[encoded data removed]"
          },
          "metadata": {}
        }
      ]
    },
    {
      "cell_type": "markdown",
      "source": [
        "Distribusi data sudah lebih rata daripada sebelumnya."
      ],
      "metadata": {
        "id": "eUQKHo4-rrPm"
      }
    },
    {
      "cell_type": "markdown",
      "source": [
        "**Splitting Data**"
      ],
      "metadata": {
        "id": "ERfpK4jdrvXe"
      }
    },
    {
      "cell_type": "markdown",
      "source": [
        "Feature Selection"
      ],
      "metadata": {
        "id": "Sg2G95GsbwYm"
      }
    },
    {
      "cell_type": "code",
      "source": [
        "X = train_dataset.drop('Type', axis=1)\n",
        "Y = train_dataset['Type']"
      ],
      "metadata": {
        "id": "qroYSCZ_nX_L"
      },
      "execution_count": null,
      "outputs": []
    },
    {
      "cell_type": "markdown",
      "source": [
        "Data untuk training sebanyak 70% dan untuk testing sebanyak 30%."
      ],
      "metadata": {
        "id": "yj4hsZdYsIVM"
      }
    },
    {
      "cell_type": "code",
      "source": [
        "X_train, X_test, Y_train, Y_test = train_test_split(X, Y, test_size=0.3, random_state=0)"
      ],
      "metadata": {
        "id": "jXmaZwHync4L"
      },
      "execution_count": null,
      "outputs": []
    },
    {
      "cell_type": "markdown",
      "source": [
        "**Encoding**"
      ],
      "metadata": {
        "id": "WcLj3RqJsVwh"
      }
    },
    {
      "cell_type": "markdown",
      "source": [
        "Y merupakan data bertipe *categorical* maka diperlukan encoding."
      ],
      "metadata": {
        "id": "BOHuTA0gso30"
      }
    },
    {
      "cell_type": "code",
      "source": [
        "encoder = LabelEncoder()\n",
        "encoder.fit(Y)\n",
        "encoded_Y = encoder.transform(Y)"
      ],
      "metadata": {
        "id": "6d9nsNNRnorR"
      },
      "execution_count": null,
      "outputs": []
    },
    {
      "cell_type": "code",
      "source": [
        "labelled_Y = to_categorical(encoded_Y)"
      ],
      "metadata": {
        "id": "W0G0ySAqno1M"
      },
      "execution_count": null,
      "outputs": []
    },
    {
      "cell_type": "markdown",
      "source": [
        "Mencari algoritma yang memiliki accuracy paling tinggi"
      ],
      "metadata": {
        "id": "9Zb8oE5_t-Za"
      }
    },
    {
      "cell_type": "code",
      "source": [
        "# spot check algorithm\n",
        "from sklearn.neighbors import KNeighborsClassifier\n",
        "from sklearn.naive_bayes import GaussianNB\n",
        "from sklearn.svm import SVC\n",
        "\n",
        "models = []\n",
        "models.append(('KNN',KNeighborsClassifier()))\n",
        "models.append(('NB', GaussianNB()))\n",
        "models.append(('SVM', SVC()))"
      ],
      "metadata": {
        "id": "4AIbaRVBn3Fv"
      },
      "execution_count": null,
      "outputs": []
    },
    {
      "cell_type": "code",
      "source": [
        "scoring = 'accuracy'"
      ],
      "metadata": {
        "id": "X6w-JcX2qeFI"
      },
      "execution_count": null,
      "outputs": []
    },
    {
      "cell_type": "code",
      "source": [
        "from sklearn import model_selection\n",
        "# evaluasi setiap model\n",
        "results = []\n",
        "names = []\n",
        "\n",
        "for name, model in models:\n",
        "  kfold = model_selection.KFold(n_splits=10, random_state=0, shuffle=True)\n",
        "  cv_results = model_selection.cross_val_score(model, X_train, Y_train, cv=kfold, scoring=scoring)\n",
        "  results.append(cv_results)\n",
        "  names.append(name)\n",
        "  msg = \"%s: %f (%f)\" % (name, cv_results.mean(), cv_results.std())\n",
        "  print(msg)"
      ],
      "metadata": {
        "colab": {
          "base_uri": "https://localhost:8080/"
        },
        "id": "CPQOEzRAqWd0",
        "outputId": "91aa6b96-c690-4e31-a78c-3160c1d2c0ba"
      },
      "execution_count": null,
      "outputs": [
        {
          "output_type": "stream",
          "name": "stdout",
          "text": [
            "KNN: 0.772119 (0.039716)\n",
            "NB: 0.880085 (0.028519)\n",
            "SVM: 0.359915 (0.059152)\n"
          ]
        }
      ]
    },
    {
      "cell_type": "markdown",
      "source": [
        "Berdasarkan penilaian spot check algorithm di atas, metode Naive Bayes memiliki nilai accuracy paling tinggi."
      ],
      "metadata": {
        "id": "C0JT6-UuuFJt"
      }
    },
    {
      "cell_type": "markdown",
      "source": [
        "**Modelling**"
      ],
      "metadata": {
        "id": "wHFb8TrTv7fA"
      }
    },
    {
      "cell_type": "code",
      "source": [
        "# fitting\n",
        "NB = GaussianNB()\n",
        "NB.fit(X_train, Y_train)"
      ],
      "metadata": {
        "colab": {
          "base_uri": "https://localhost:8080/"
        },
        "id": "sxjfnJzRuVFo",
        "outputId": "6c65fea5-4285-4173-cc2a-e7e1744e2aad"
      },
      "execution_count": null,
      "outputs": [
        {
          "output_type": "execute_result",
          "data": {
            "text/plain": [
              "GaussianNB()"
            ]
          },
          "metadata": {},
          "execution_count": 18
        }
      ]
    },
    {
      "cell_type": "code",
      "source": [
        "Y_pred = NB.predict(X_test)\n",
        "Y_pred"
      ],
      "metadata": {
        "colab": {
          "base_uri": "https://localhost:8080/"
        },
        "id": "mhjBDES0xZMV",
        "outputId": "53da4329-1165-419f-d30d-bce8d177bb69"
      },
      "execution_count": null,
      "outputs": [
        {
          "output_type": "execute_result",
          "data": {
            "text/plain": [
              "array(['Other', 'Typical aura with migraine', 'Basilar-type aura',\n",
              "       'Other', 'Basilar-type aura', 'Sporadic hemiplegic migraine',\n",
              "       'Typical aura with migraine', 'Typical aura with migraine',\n",
              "       'Typical aura without migraine', 'Familial hemiplegic migraine',\n",
              "       'Migraine without aura', 'Basilar-type aura',\n",
              "       'Migraine without aura', 'Familial hemiplegic migraine',\n",
              "       'Migraine without aura', 'Basilar-type aura', 'Other',\n",
              "       'Typical aura with migraine', 'Other',\n",
              "       'Typical aura with migraine', 'Sporadic hemiplegic migraine',\n",
              "       'Typical aura with migraine', 'Typical aura with migraine',\n",
              "       'Typical aura with migraine', 'Sporadic hemiplegic migraine',\n",
              "       'Other', 'Other', 'Typical aura with migraine',\n",
              "       'Typical aura with migraine', 'Typical aura with migraine',\n",
              "       'Typical aura with migraine', 'Other',\n",
              "       'Familial hemiplegic migraine', 'Migraine without aura',\n",
              "       'Typical aura without migraine', 'Basilar-type aura', 'Other',\n",
              "       'Migraine without aura', 'Basilar-type aura',\n",
              "       'Typical aura with migraine', 'Typical aura with migraine',\n",
              "       'Typical aura without migraine', 'Typical aura with migraine',\n",
              "       'Other', 'Other', 'Other', 'Basilar-type aura',\n",
              "       'Typical aura without migraine', 'Migraine without aura',\n",
              "       'Familial hemiplegic migraine', 'Typical aura with migraine',\n",
              "       'Migraine without aura', 'Basilar-type aura',\n",
              "       'Typical aura with migraine', 'Migraine without aura',\n",
              "       'Sporadic hemiplegic migraine', 'Basilar-type aura',\n",
              "       'Typical aura with migraine', 'Sporadic hemiplegic migraine',\n",
              "       'Other', 'Sporadic hemiplegic migraine',\n",
              "       'Sporadic hemiplegic migraine', 'Typical aura with migraine',\n",
              "       'Sporadic hemiplegic migraine', 'Basilar-type aura',\n",
              "       'Migraine without aura', 'Sporadic hemiplegic migraine',\n",
              "       'Typical aura with migraine', 'Migraine without aura',\n",
              "       'Migraine without aura', 'Typical aura with migraine',\n",
              "       'Sporadic hemiplegic migraine', 'Typical aura with migraine',\n",
              "       'Sporadic hemiplegic migraine', 'Basilar-type aura',\n",
              "       'Typical aura with migraine', 'Other',\n",
              "       'Familial hemiplegic migraine', 'Migraine without aura',\n",
              "       'Familial hemiplegic migraine', 'Typical aura with migraine',\n",
              "       'Typical aura without migraine', 'Typical aura with migraine',\n",
              "       'Other', 'Basilar-type aura', 'Typical aura without migraine',\n",
              "       'Typical aura with migraine', 'Other',\n",
              "       'Sporadic hemiplegic migraine', 'Other',\n",
              "       'Typical aura without migraine', 'Typical aura with migraine',\n",
              "       'Typical aura with migraine', 'Other',\n",
              "       'Typical aura without migraine', 'Other', 'Migraine without aura',\n",
              "       'Typical aura with migraine', 'Typical aura without migraine',\n",
              "       'Sporadic hemiplegic migraine', 'Typical aura without migraine',\n",
              "       'Migraine without aura', 'Other', 'Typical aura without migraine',\n",
              "       'Typical aura with migraine', 'Typical aura with migraine',\n",
              "       'Typical aura with migraine', 'Typical aura with migraine',\n",
              "       'Migraine without aura', 'Typical aura without migraine',\n",
              "       'Typical aura without migraine', 'Familial hemiplegic migraine',\n",
              "       'Familial hemiplegic migraine', 'Typical aura with migraine',\n",
              "       'Migraine without aura', 'Basilar-type aura', 'Basilar-type aura',\n",
              "       'Typical aura without migraine', 'Typical aura with migraine',\n",
              "       'Other', 'Typical aura with migraine', 'Migraine without aura',\n",
              "       'Typical aura with migraine', 'Other',\n",
              "       'Typical aura without migraine', 'Typical aura without migraine',\n",
              "       'Migraine without aura', 'Basilar-type aura',\n",
              "       'Typical aura with migraine', 'Other',\n",
              "       'Typical aura without migraine', 'Typical aura with migraine',\n",
              "       'Other', 'Sporadic hemiplegic migraine',\n",
              "       'Typical aura with migraine', 'Typical aura with migraine',\n",
              "       'Familial hemiplegic migraine', 'Typical aura with migraine',\n",
              "       'Sporadic hemiplegic migraine', 'Typical aura with migraine',\n",
              "       'Typical aura without migraine', 'Typical aura with migraine',\n",
              "       'Typical aura without migraine', 'Typical aura with migraine',\n",
              "       'Familial hemiplegic migraine', 'Typical aura without migraine',\n",
              "       'Typical aura with migraine', 'Typical aura with migraine',\n",
              "       'Typical aura with migraine', 'Typical aura with migraine',\n",
              "       'Typical aura with migraine', 'Typical aura with migraine',\n",
              "       'Typical aura without migraine', 'Migraine without aura',\n",
              "       'Sporadic hemiplegic migraine', 'Typical aura with migraine',\n",
              "       'Sporadic hemiplegic migraine', 'Migraine without aura',\n",
              "       'Basilar-type aura', 'Typical aura with migraine',\n",
              "       'Basilar-type aura', 'Migraine without aura',\n",
              "       'Migraine without aura', 'Typical aura with migraine',\n",
              "       'Typical aura without migraine', 'Typical aura with migraine',\n",
              "       'Other', 'Migraine without aura', 'Other', 'Basilar-type aura',\n",
              "       'Migraine without aura', 'Familial hemiplegic migraine',\n",
              "       'Typical aura without migraine', 'Typical aura with migraine',\n",
              "       'Sporadic hemiplegic migraine', 'Typical aura with migraine',\n",
              "       'Typical aura with migraine', 'Familial hemiplegic migraine',\n",
              "       'Typical aura with migraine', 'Typical aura with migraine',\n",
              "       'Sporadic hemiplegic migraine', 'Sporadic hemiplegic migraine',\n",
              "       'Migraine without aura', 'Typical aura without migraine',\n",
              "       'Sporadic hemiplegic migraine', 'Basilar-type aura',\n",
              "       'Migraine without aura', 'Sporadic hemiplegic migraine', 'Other',\n",
              "       'Migraine without aura', 'Typical aura with migraine',\n",
              "       'Typical aura with migraine', 'Typical aura with migraine',\n",
              "       'Typical aura without migraine', 'Typical aura without migraine',\n",
              "       'Typical aura with migraine', 'Typical aura with migraine',\n",
              "       'Migraine without aura', 'Typical aura with migraine',\n",
              "       'Typical aura with migraine', 'Typical aura with migraine',\n",
              "       'Migraine without aura', 'Typical aura with migraine', 'Other',\n",
              "       'Familial hemiplegic migraine', 'Typical aura with migraine',\n",
              "       'Typical aura with migraine', 'Other',\n",
              "       'Typical aura with migraine', 'Typical aura with migraine',\n",
              "       'Migraine without aura', 'Migraine without aura',\n",
              "       'Typical aura with migraine', 'Sporadic hemiplegic migraine',\n",
              "       'Migraine without aura', 'Typical aura with migraine',\n",
              "       'Familial hemiplegic migraine', 'Migraine without aura',\n",
              "       'Familial hemiplegic migraine', 'Typical aura with migraine',\n",
              "       'Typical aura with migraine', 'Typical aura with migraine',\n",
              "       'Typical aura without migraine', 'Typical aura with migraine',\n",
              "       'Typical aura with migraine', 'Familial hemiplegic migraine',\n",
              "       'Typical aura with migraine', 'Familial hemiplegic migraine',\n",
              "       'Migraine without aura', 'Typical aura with migraine', 'Other',\n",
              "       'Basilar-type aura', 'Typical aura with migraine',\n",
              "       'Sporadic hemiplegic migraine', 'Sporadic hemiplegic migraine',\n",
              "       'Sporadic hemiplegic migraine', 'Typical aura without migraine',\n",
              "       'Sporadic hemiplegic migraine', 'Basilar-type aura',\n",
              "       'Migraine without aura', 'Other', 'Other',\n",
              "       'Sporadic hemiplegic migraine', 'Migraine without aura',\n",
              "       'Typical aura with migraine', 'Sporadic hemiplegic migraine',\n",
              "       'Typical aura without migraine', 'Typical aura without migraine',\n",
              "       'Migraine without aura', 'Familial hemiplegic migraine',\n",
              "       'Typical aura without migraine', 'Typical aura with migraine',\n",
              "       'Typical aura without migraine', 'Typical aura with migraine',\n",
              "       'Sporadic hemiplegic migraine'], dtype='<U29')"
            ]
          },
          "metadata": {},
          "execution_count": 19
        }
      ]
    },
    {
      "cell_type": "markdown",
      "source": [
        "**Evaluation**"
      ],
      "metadata": {
        "id": "MU3KtR_j0B5m"
      }
    },
    {
      "cell_type": "code",
      "source": [
        "from sklearn.metrics import accuracy_score\n",
        "print('Model accuracy score: {0:.4f}'. format(accuracy_score(Y_test, Y_pred)))\n",
        "print('Training set score: {:.4f}'.format(NB.score(X_train, Y_train)))\n",
        "print('Test set score: {:.4f}'.format(NB.score(X_test, Y_test)))"
      ],
      "metadata": {
        "colab": {
          "base_uri": "https://localhost:8080/"
        },
        "id": "mflGhTw6xcl2",
        "outputId": "da814b86-e609-4bff-b171-de57840d95d9"
      },
      "execution_count": null,
      "outputs": [
        {
          "output_type": "stream",
          "name": "stdout",
          "text": [
            "Model accuracy score: 0.8863\n",
            "Training set score: 0.8801\n",
            "Test set score: 0.8863\n"
          ]
        }
      ]
    },
    {
      "cell_type": "code",
      "source": [
        "from sklearn.metrics import confusion_matrix\n",
        "cm = confusion_matrix(Y_test, Y_pred)\n",
        "print('Confusion matrix\\n\\n', cm)"
      ],
      "metadata": {
        "colab": {
          "base_uri": "https://localhost:8080/"
        },
        "id": "QIAEC7QR0h2z",
        "outputId": "3627b9a5-c367-4425-d3a0-a7d1271cbf26"
      },
      "execution_count": null,
      "outputs": [
        {
          "output_type": "stream",
          "name": "stdout",
          "text": [
            "Confusion matrix\n",
            "\n",
            " [[21  2  0  0  4  0  0]\n",
            " [ 0 14  0  0  0 15  0]\n",
            " [ 0  0 37  0  0  0  0]\n",
            " [ 0  0  0 30  0  0  0]\n",
            " [ 0  0  0  0 26  5  0]\n",
            " [ 0  2  0  1  0 66  0]\n",
            " [ 0  0  0  0  0  0 32]]\n"
          ]
        }
      ]
    },
    {
      "cell_type": "code",
      "source": [
        "plt.figure(figsize=(10,6))\n",
        "fx=sns.heatmap(confusion_matrix(Y_test,Y_pred), annot=True, fmt=\".2f\",cmap=\"GnBu\")\n",
        "fx.set_title('Confusion Matrix \\n');\n",
        "fx.set_xlabel('\\n Predicted Values\\n')\n",
        "fx.set_ylabel('Actual Values\\n');\n",
        "plt.show()"
      ],
      "metadata": {
        "colab": {
          "base_uri": "https://localhost:8080/",
          "height": 455
        },
        "id": "c_rwSy1kmnIO",
        "outputId": "eb54e757-a62e-4a94-dada-d37fae155f35"
      },
      "execution_count": null,
      "outputs": [
        {
          "output_type": "display_data",
          "data": {
            "text/plain": [
              "<Figure size 720x432 with 2 Axes>"
            ],
            "image/png": "[encoded data removed]"
          },
          "metadata": {}
        }
      ]
    },
    {
      "cell_type": "code",
      "source": [],
      "metadata": {
        "id": "GyWpibU8PgTV"
      },
      "execution_count": null,
      "outputs": []
    },
    {
      "cell_type": "markdown",
      "source": [
        "Karena klasifikasi yang dilakukan memiliki 7 class, maka kita akan mendapatkan confusion matrix 7x7"
      ],
      "metadata": {
        "id": "mPQ_3mZrjM_C"
      }
    },
    {
      "cell_type": "code",
      "source": [
        "from sklearn.metrics import classification_report\n",
        "print(classification_report(Y_test, Y_pred))"
      ],
      "metadata": {
        "colab": {
          "base_uri": "https://localhost:8080/"
        },
        "id": "9cEoQUPub8NM",
        "outputId": "03281215-63ca-4c3c-e1f6-b0f1c6eba879"
      },
      "execution_count": null,
      "outputs": [
        {
          "output_type": "stream",
          "name": "stdout",
          "text": [
            "                               precision    recall  f1-score   support\n",
            "\n",
            "            Basilar-type aura       1.00      0.78      0.88        27\n",
            " Familial hemiplegic migraine       0.78      0.48      0.60        29\n",
            "        Migraine without aura       1.00      1.00      1.00        37\n",
            "                        Other       0.97      1.00      0.98        30\n",
            " Sporadic hemiplegic migraine       0.87      0.84      0.85        31\n",
            "   Typical aura with migraine       0.77      0.96      0.85        69\n",
            "Typical aura without migraine       1.00      1.00      1.00        32\n",
            "\n",
            "                     accuracy                           0.89       255\n",
            "                    macro avg       0.91      0.87      0.88       255\n",
            "                 weighted avg       0.89      0.89      0.88       255\n",
            "\n"
          ]
        }
      ]
    },
    {
      "cell_type": "markdown",
      "source": [
        "**Visualization**"
      ],
      "metadata": {
        "id": "Dogu5ZGA0KQf"
      }
    },
    {
      "cell_type": "code",
      "source": [
        "from sklearn.datasets import make_blobs\n",
        "X_test, Y_test = make_blobs(255, 7, centers=7, random_state=0, cluster_std=1)\n",
        "plt.scatter(X_test[:, 0], X_test[:, 1], c=Y_test, s=50, cmap='RdBu');"
      ],
      "metadata": {
        "colab": {
          "base_uri": "https://localhost:8080/",
          "height": 546
        },
        "id": "VfjfxBm_as2T",
        "outputId": "d6d44838-0af1-4486-c206-15559675716a"
      },
      "execution_count": null,
      "outputs": [
        {
          "output_type": "display_data",
          "data": {
            "text/plain": [
              "<Figure size 1080x720 with 1 Axes>"
            ],
            "image/png": "[encoded data removed]"
          },
          "metadata": {}
        }
      ]
    }
  ],
  "metadata": {
    "colab": {
      "provenance": []
    },
    "kernelspec": {
      "display_name": "Python 3",
      "name": "python3"
    },
    "language_info": {
      "name": "python"
    }
  },
  "nbformat": 4,
  "nbformat_minor": 0
}